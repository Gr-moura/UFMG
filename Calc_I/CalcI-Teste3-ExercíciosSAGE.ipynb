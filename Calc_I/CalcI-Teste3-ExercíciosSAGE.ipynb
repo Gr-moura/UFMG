{
 "cells": [
  {
   "cell_type": "markdown",
   "id": "806b7461-3744-4d80-84d2-850bf771660f",
   "metadata": {},
   "source": [
    "<strong style=\"color: red;\">1. $f(x)=\\cos \\left(x^3+1\\right)-\\ln \\left(\\frac{1}{x}\\right)$</strong>"
   ]
  },
  {
   "cell_type": "code",
   "execution_count": 7,
   "id": "315aab4e-e76c-45f2-9a00-ec4f8db70007",
   "metadata": {},
   "outputs": [
    {
     "name": "stdout",
     "output_type": "stream",
     "text": [
      "-3*x^2*sin(x^3 + 1) + 1/x \n",
      "\n",
      "-9*x^4*cos(x^3 + 1) - 6*x*sin(x^3 + 1) - 1/x^2 \n",
      "\n"
     ]
    }
   ],
   "source": [
    "x = var('x')\n",
    "f1 = cos(x^3 + 1) - log(1/x)\n",
    "\n",
    "f1_prime = diff(f1, x)\n",
    "f1_prime2 = diff(f1_prime, x)\n",
    "\n",
    "print(f1_prime, \"\\n\")\n",
    "print(f1_prime2, \"\\n\")"
   ]
  },
  {
   "cell_type": "markdown",
   "id": "f18f75a7-7db7-4d13-ad77-ff629c747be3",
   "metadata": {},
   "source": [
    "<strong style=\"color: red;\">2. $f(x)=\\sqrt{\\operatorname{sen}(2 x+1)}$</strong>"
   ]
  },
  {
   "cell_type": "code",
   "execution_count": 8,
   "id": "ca69c6af-6be1-4090-8203-f0d50dfdb72d",
   "metadata": {},
   "outputs": [
    {
     "name": "stdout",
     "output_type": "stream",
     "text": [
      "cos(2*x + 1)/sqrt(sin(2*x + 1)) \n",
      "\n",
      "-cos(2*x + 1)^2/sin(2*x + 1)^(3/2) - 2*sqrt(sin(2*x + 1)) \n",
      "\n"
     ]
    }
   ],
   "source": [
    "f2 = sqrt(sin(2*x + 1))\n",
    "\n",
    "f2_prime = diff(f2, x)\n",
    "f2_prime2 = diff(f2_prime, x)\n",
    "\n",
    "print(f2_prime, \"\\n\")\n",
    "print(f2_prime2, \"\\n\")"
   ]
  },
  {
   "cell_type": "markdown",
   "id": "173a7291-fb70-4633-98e2-c3d81675ea94",
   "metadata": {},
   "source": [
    "<strong style=\"color: red;\">3. $f(x)=\\frac{e^{x+1}}{x+\\cos (x)}$</strong>"
   ]
  },
  {
   "cell_type": "code",
   "execution_count": 9,
   "id": "59619214-7143-4900-9e19-87603d2dd166",
   "metadata": {},
   "outputs": [
    {
     "name": "stdout",
     "output_type": "stream",
     "text": [
      "e^(x + 1)/(x + cos(x)) + (sin(x) - 1)*e^(x + 1)/(x + cos(x))^2 \n",
      "\n",
      "e^(x + 1)/(x + cos(x)) + 2*(sin(x) - 1)*e^(x + 1)/(x + cos(x))^2 + 2*(sin(x) - 1)^2*e^(x + 1)/(x + cos(x))^3 + cos(x)*e^(x + 1)/(x + cos(x))^2 \n",
      "\n"
     ]
    }
   ],
   "source": [
    "f3 = exp(x + 1) / (x + cos(x))\n",
    "\n",
    "f3_prime = diff(f3, x)\n",
    "f3_prime2 = diff(f3_prime, x)\n",
    "\n",
    "print(f3_prime, \"\\n\")\n",
    "print(f3_prime2, \"\\n\")"
   ]
  },
  {
   "cell_type": "markdown",
   "id": "0b2029bd-a60d-45a5-91a7-2c2f35fcd3c6",
   "metadata": {},
   "source": [
    "<strong style=\"color: red;\">4. $f(x)=\\frac{x}{x^3+3 x^2+1}$</strong>"
   ]
  },
  {
   "cell_type": "code",
   "execution_count": 10,
   "id": "51388e10-ea9c-4953-b48c-cd9a9a0f7f54",
   "metadata": {},
   "outputs": [
    {
     "name": "stdout",
     "output_type": "stream",
     "text": [
      "-3*(x^2 + 2*x)*x/(x^3 + 3*x^2 + 1)^2 + 1/(x^3 + 3*x^2 + 1) \n",
      "\n",
      "18*(x^2 + 2*x)^2*x/(x^3 + 3*x^2 + 1)^3 - 6*(x + 1)*x/(x^3 + 3*x^2 + 1)^2 - 6*(x^2 + 2*x)/(x^3 + 3*x^2 + 1)^2 \n",
      "\n"
     ]
    }
   ],
   "source": [
    "f4 = x / (x^3 + 3*x^2 + 1)\n",
    "\n",
    "f4_prime = diff(f4, x)\n",
    "f4_prime2 = diff(f4_prime, x)\n",
    "\n",
    "print(f4_prime, \"\\n\")\n",
    "print(f4_prime2, \"\\n\")"
   ]
  },
  {
   "cell_type": "markdown",
   "id": "f08af533-a204-4e08-8b74-19d114b67f62",
   "metadata": {},
   "source": [
    "<strong style=\"color: red;\">5. $f(x)=2 x^{\\frac{3}{7}}+\\frac{1}{\\sqrt[3]{x^4}}$</strong>"
   ]
  },
  {
   "cell_type": "code",
   "execution_count": 11,
   "id": "e6acced5-d7c4-4e97-9c03-a178e6c9d7f4",
   "metadata": {},
   "outputs": [
    {
     "name": "stdout",
     "output_type": "stream",
     "text": [
      "-4/3*x^3/(x^4)^(4/3) + 6/7/x^(4/7) \n",
      "\n",
      "64/9*x^6/(x^4)^(7/3) - 4*x^2/(x^4)^(4/3) - 24/49/x^(11/7) \n",
      "\n"
     ]
    }
   ],
   "source": [
    "f5 = 2*x^(3/7) + 1/(x^4)^(1/3)\n",
    "\n",
    "f5_prime = diff(f5, x)\n",
    "f5_prime2 = diff(f5_prime, x)\n",
    "\n",
    "print(f5_prime, \"\\n\")\n",
    "print(f5_prime2, \"\\n\")"
   ]
  },
  {
   "cell_type": "markdown",
   "id": "bc9b27d9-53f9-4220-a32a-ae946a0bcb67",
   "metadata": {},
   "source": [
    "<strong style=\"color: red;\">6. $f(x)=\\frac{1}{\\operatorname{sen}(x)+1}$</strong>"
   ]
  },
  {
   "cell_type": "code",
   "execution_count": 12,
   "id": "6c5bc97d-1ba9-4448-98f3-13ae4eeaf6c7",
   "metadata": {},
   "outputs": [
    {
     "name": "stdout",
     "output_type": "stream",
     "text": [
      "-cos(x)/(sin(x) + 1)^2 \n",
      "\n",
      "2*cos(x)^2/(sin(x) + 1)^3 + sin(x)/(sin(x) + 1)^2 \n",
      "\n"
     ]
    }
   ],
   "source": [
    "f6 = 1 / (sin(x) + 1)\n",
    "\n",
    "f6_prime = diff(f6, x)\n",
    "f6_prime2 = diff(f6_prime, x)\n",
    "\n",
    "print(f6_prime, \"\\n\")\n",
    "print(f6_prime2, \"\\n\")"
   ]
  }
 ],
 "metadata": {
  "kernelspec": {
   "display_name": "SageMath 10.4",
   "language": "sage",
   "name": "SageMath-10.4"
  },
  "language_info": {
   "codemirror_mode": {
    "name": "ipython",
    "version": 3
   },
   "file_extension": ".py",
   "mimetype": "text/x-python",
   "name": "python",
   "nbconvert_exporter": "python",
   "pygments_lexer": "ipython3",
   "version": "3.12.4"
  }
 },
 "nbformat": 4,
 "nbformat_minor": 5
}
