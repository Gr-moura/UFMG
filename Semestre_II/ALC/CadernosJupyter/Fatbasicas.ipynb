{
 "cells": [
  {
   "cell_type": "markdown",
   "metadata": {},
   "source": [
    "## Álgebra Linear Computacional\n",
    "### Fatorações básicas (Eliminação de Gauss, Pivoteamento Parcial e Cholesky)\n",
    "#### Profs. Alexandre Salles da Cunha e Ana Paula Couto da Silva"
   ]
  },
  {
   "cell_type": "code",
   "execution_count": 1,
   "metadata": {},
   "outputs": [],
   "source": [
    "import numpy as np\n",
    "import math\n"
   ]
  },
  {
   "cell_type": "markdown",
   "metadata": {},
   "source": [
    "#### Para explorar o conteúdo da biblioteca np (ou qualquer outra), digite np. e complete com \"tab\" para que o sistema ofereça as opções"
   ]
  },
  {
   "cell_type": "code",
   "execution_count": 2,
   "metadata": {},
   "outputs": [],
   "source": [
    "A = np.array([[2,1,1,0],[4,3,3,1],[8,7,9,5],[6,7,9,8]],dtype = 'float64')\n",
    "R = np.random.random((4,4))\n",
    "I = np.eye((4))\n",
    "b = np.array([2,3,3,9],dtype='float64')\n",
    "x = np.linalg.solve(R,b)\n",
    "n = len(A)\n"
   ]
  },
  {
   "cell_type": "code",
   "execution_count": 3,
   "metadata": {},
   "outputs": [],
   "source": [
    "def EliminacaoGauss(A):\n",
    "    n = len(A)\n",
    "    #U = A (esta instrucao difere da abaixo .copy(A))\n",
    "    U = np.copy(A)\n",
    "    L = np.eye(n)\n",
    "    for j in range(0,n-1):\n",
    "        for i in range(j+1,n):\n",
    "            L[i,j] = U[i,j]/U[j,j]\n",
    "            U[i,j:n] = U[i,j:n] - L[i,j]*U[j,j:n]\n",
    "    return U,L"
   ]
  },
  {
   "cell_type": "code",
   "execution_count": 4,
   "metadata": {},
   "outputs": [],
   "source": [
    "U,L = EliminacaoGauss(A)"
   ]
  },
  {
   "cell_type": "code",
   "execution_count": 5,
   "metadata": {},
   "outputs": [
    {
     "name": "stdout",
     "output_type": "stream",
     "text": [
      "[[2. 1. 1. 0.]\n",
      " [0. 1. 1. 1.]\n",
      " [0. 0. 2. 2.]\n",
      " [0. 0. 0. 2.]]\n",
      "[[1. 0. 0. 0.]\n",
      " [2. 1. 0. 0.]\n",
      " [4. 3. 1. 0.]\n",
      " [3. 4. 1. 1.]]\n"
     ]
    }
   ],
   "source": [
    "print(U)\n",
    "print(L)"
   ]
  },
  {
   "cell_type": "code",
   "execution_count": 6,
   "metadata": {},
   "outputs": [],
   "source": [
    "def EliminacaoGauss_Outer(A):\n",
    "    # nao implementa troca de linhas\n",
    "    n = len(A)\n",
    "    U = np.full((n,n),0.0)\n",
    "    L = np.eye(n)\n",
    "    AC = np.copy(A)\n",
    "    for j in range(0,n-1):\n",
    "        L[j+1:,j] = AC[j+1:,j]/AC[j,j]\n",
    "        U[j,j:]    = AC[j,j:]\n",
    "        AC[j+1:,j+1:] = AC[j+1:,j+1:] - np.outer(L[j+1:,j],U[j,j+1:])\n",
    "        #print(AC[j+1:,j+1:])\n",
    "        #print(U)\n",
    "    U[n-1,n-1] = AC[n-1,n-1]\n",
    "    #print(L)\n",
    "    #print(U)\n",
    "    return L,U"
   ]
  },
  {
   "cell_type": "code",
   "execution_count": 7,
   "metadata": {
    "scrolled": true
   },
   "outputs": [
    {
     "name": "stdout",
     "output_type": "stream",
     "text": [
      "[[0. 0. 0. 0.]\n",
      " [0. 0. 0. 0.]\n",
      " [0. 0. 0. 0.]\n",
      " [0. 0. 0. 0.]]\n"
     ]
    }
   ],
   "source": [
    "L,U = EliminacaoGauss_Outer(A)\n",
    "print(np.matmul(L,U)-A)"
   ]
  },
  {
   "cell_type": "code",
   "execution_count": 8,
   "metadata": {},
   "outputs": [],
   "source": [
    "def DeterminaLinhaPivot(U,j):\n",
    "    vmax = abs(U[j,j])\n",
    "    jmax = j\n",
    "    for i in range(j+1,len(U)):\n",
    "        if abs(U[i,j]) > vmax:\n",
    "            vmax = abs(U[i,j])\n",
    "            jmax = i\n",
    "    return jmax\n",
    "\n",
    "def Troca(U,L,j,p,pivot):\n",
    "    for i in range(0,j):\n",
    "        # parte em L\n",
    "        t = L[j,i]\n",
    "        L[j,i] = L[p,i]\n",
    "        L[p,i] = t\n",
    "    for i in range(j,len(U)):\n",
    "        # parte em U\n",
    "        t = U[j,i]\n",
    "        U[j,i] = U[p,i]\n",
    "        U[p,i] = t\n",
    "    \n",
    "    t = pivot[j]\n",
    "    pivot[j] = pivot[p]\n",
    "    pivot[p] = t\n",
    "    \n",
    "\n",
    "def EliminacaoGaussPivoteamento(A):\n",
    "    n = len(A)\n",
    "    U = np.copy(A)\n",
    "    L = np.eye(n)\n",
    "    pivot = np.arange(0,n,1)\n",
    "    for j in range(0,n-1):\n",
    "        p = DeterminaLinhaPivot(U,j)\n",
    "        #print('pivot',p)\n",
    "        if (p != j):\n",
    "            Troca(U,L,j,p,pivot)\n",
    "        for i in range(j+1,n):\n",
    "            L[i,j] = U[i,j]/U[j,j]\n",
    "            U[i,j:n] = U[i,j:n] - L[i,j]*U[j,j:n]\n",
    "    return L,U,pivot"
   ]
  },
  {
   "cell_type": "code",
   "execution_count": 9,
   "metadata": {},
   "outputs": [
    {
     "name": "stdout",
     "output_type": "stream",
     "text": [
      "[[ 1.          0.          0.          0.        ]\n",
      " [ 0.75        1.          0.          0.        ]\n",
      " [ 0.5        -0.28571429  1.          0.        ]\n",
      " [ 0.25       -0.42857143  0.33333333  1.        ]]\n",
      "[[ 8.          7.          9.          5.        ]\n",
      " [ 0.          1.75        2.25        4.25      ]\n",
      " [ 0.          0.         -0.85714286 -0.28571429]\n",
      " [ 0.          0.          0.          0.66666667]]\n",
      "[2 3 1 0]\n"
     ]
    }
   ],
   "source": [
    "L,U,pivot = EliminacaoGaussPivoteamento(A)\n",
    "print(L)\n",
    "print(U)\n",
    "print(pivot)"
   ]
  },
  {
   "cell_type": "code",
   "execution_count": 10,
   "metadata": {},
   "outputs": [],
   "source": [
    "def EliminacaoGauss_Outer_Pivotal(A):\n",
    "    # implementa pivoteamento parcial na visao por colunas\n",
    "    n = len(A)\n",
    "    pivot = np.arange(0,n,1)\n",
    "    U = np.full((n,n),0.0)\n",
    "    L = np.eye(n)\n",
    "    AC = np.copy(A)\n",
    "    for j in range(0,n-1):\n",
    "        \n",
    "        p = DeterminaLinhaPivot(AC,j)\n",
    "        if (p != j):\n",
    "            Troca(AC,L,j,p,pivot)\n",
    "                \n",
    "        L[j+1:,j] = AC[j+1:,j]/AC[j,j]\n",
    "        U[j,j:]    = AC[j,j:]\n",
    "        AC[j+1:,j+1:] = AC[j+1:,j+1:] - np.outer(L[j+1:,j],U[j,j+1:])\n",
    "        #print(AC[j+1:,j+1:])\n",
    "        #print(U)\n",
    "    U[n-1,n-1] = AC[n-1,n-1]\n",
    "    #print(L)\n",
    "    #print(U)\n",
    "    return L,U,pivot"
   ]
  },
  {
   "cell_type": "code",
   "execution_count": 11,
   "metadata": {},
   "outputs": [
    {
     "name": "stdout",
     "output_type": "stream",
     "text": [
      "[[ 1.          0.          0.          0.        ]\n",
      " [ 0.75        1.          0.          0.        ]\n",
      " [ 0.5        -0.28571429  1.          0.        ]\n",
      " [ 0.25       -0.42857143  0.33333333  1.        ]]\n",
      "[[ 8.          7.          9.          5.        ]\n",
      " [ 0.          1.75        2.25        4.25      ]\n",
      " [ 0.          0.         -0.85714286 -0.28571429]\n",
      " [ 0.          0.          0.          0.66666667]]\n",
      "[2 3 1 0]\n"
     ]
    }
   ],
   "source": [
    "L,U,pivot = EliminacaoGauss_Outer_Pivotal(A)\n",
    "print(L)\n",
    "print(U)\n",
    "print(pivot)"
   ]
  },
  {
   "cell_type": "code",
   "execution_count": 12,
   "metadata": {},
   "outputs": [
    {
     "name": "stdout",
     "output_type": "stream",
     "text": [
      "[[ 1.          0.          0.          0.        ]\n",
      " [ 0.75        1.          0.          0.        ]\n",
      " [ 0.5        -0.28571429  1.          0.        ]\n",
      " [ 0.25       -0.42857143  0.33333333  1.        ]]\n",
      "[[ 8.          7.          9.          5.        ]\n",
      " [ 0.          1.75        2.25        4.25      ]\n",
      " [ 0.          0.         -0.85714286 -0.28571429]\n",
      " [ 0.          0.          0.          0.66666667]]\n",
      "[[0. 0. 0. 1.]\n",
      " [0. 0. 1. 0.]\n",
      " [1. 0. 0. 0.]\n",
      " [0. 1. 0. 0.]]\n"
     ]
    }
   ],
   "source": [
    "import scipy\n",
    "import scipy.linalg\n",
    "perm,l,u = scipy.linalg.lu(A)\n",
    "print(l)\n",
    "print(u)\n",
    "print(perm)"
   ]
  },
  {
   "cell_type": "code",
   "execution_count": 13,
   "metadata": {},
   "outputs": [],
   "source": [
    "def ResolveTriangInf(L,b,p):\n",
    "    n = len(L)\n",
    "    y = np.zeros(n,dtype = 'float64')\n",
    "    for i in range(0,n):\n",
    "        y[i] = b[p[i]] - np.matmul(L[i,:i],y[:i])\n",
    "        if L[i,i] != 0.0:\n",
    "            y[i] = y[i]/L[i,i]\n",
    "    return y\n",
    "\n",
    "def ResolveTriangSup(U,b):\n",
    "    n = len(U)\n",
    "    x = np.zeros(n,dtype = 'float64')\n",
    "    for i in range(n-1,-1,-1):\n",
    "        x[i] = b[i] - np.matmul(U[i,i+1:],x[i+1:])\n",
    "        if (U[i,i] != 0.0):\n",
    "            x[i] = x[i] / U[i,i]\n",
    "    return x    \n",
    "\n",
    "def ResolveSistemaLinear(A,b):\n",
    "    L,U,pivot = EliminacaoGaussPivoteamento(A)\n",
    "    y = ResolveTriangInf(L,b,pivot)\n",
    "    x = ResolveTriangSup(U,y)\n",
    "    return x"
   ]
  },
  {
   "cell_type": "code",
   "execution_count": 14,
   "metadata": {},
   "outputs": [
    {
     "name": "stdout",
     "output_type": "stream",
     "text": [
      "[2. 3. 3. 9.]\n",
      "[2 3 1 0]\n",
      "[3.         6.75       3.42857143 3.        ]\n"
     ]
    }
   ],
   "source": [
    "y = ResolveTriangInf(L,b,pivot)\n",
    "print(b)\n",
    "print(pivot)\n",
    "print(y)"
   ]
  },
  {
   "cell_type": "code",
   "execution_count": 15,
   "metadata": {},
   "outputs": [
    {
     "name": "stdout",
     "output_type": "stream",
     "text": [
      "3\n",
      "2\n",
      "1\n",
      "0\n"
     ]
    }
   ],
   "source": [
    "Y = range(len(L)-1,-1,-1)\n",
    "for i in Y:\n",
    "    print(i)"
   ]
  },
  {
   "cell_type": "code",
   "execution_count": 16,
   "metadata": {},
   "outputs": [
    {
     "name": "stdout",
     "output_type": "stream",
     "text": [
      "[ 3.7500000e+00  2.0301221e-15 -5.5000000e+00  4.5000000e+00]\n"
     ]
    }
   ],
   "source": [
    "x = ResolveSistemaLinear(A,b)\n",
    "print(x)"
   ]
  },
  {
   "cell_type": "code",
   "execution_count": 17,
   "metadata": {},
   "outputs": [
    {
     "name": "stdout",
     "output_type": "stream",
     "text": [
      "[[  6.  14.  32.  28.]\n",
      " [ 14.  35.  85.  80.]\n",
      " [ 32.  85. 219. 218.]\n",
      " [ 28.  80. 218. 230.]]\n"
     ]
    }
   ],
   "source": [
    "ATA = A @ A.transpose()\n",
    "print(ATA)"
   ]
  },
  {
   "cell_type": "code",
   "execution_count": 18,
   "metadata": {},
   "outputs": [],
   "source": [
    "def Cholesky_Outer(R):\n",
    "    n = len(R)\n",
    "    for j in range(0,n):\n",
    "        if (R[j,j] > 0.0):\n",
    "            R[j,j] = math.sqrt(R[j,j])\n",
    "            R[j,j+1:] = R[j,j+1:]/R[j,j]\n",
    "            R[j+1:,j+1:] = R[j+1:,j+1:] - np.outer(R[j,j+1:],R[j,j+1:])\n",
    "    return np.triu(R)        \n",
    "            \n",
    "        "
   ]
  },
  {
   "cell_type": "code",
   "execution_count": 19,
   "metadata": {},
   "outputs": [
    {
     "name": "stdout",
     "output_type": "stream",
     "text": [
      "[[ 2.44948974  5.71547607 13.06394529 11.43095213]\n",
      " [ 0.          1.52752523  6.7647546   9.60158717]\n",
      " [ 0.          0.          1.60356745  2.3162641 ]\n",
      " [ 0.          0.          0.          1.33333333]]\n"
     ]
    }
   ],
   "source": [
    "R = ATA.copy()\n",
    "Fator = Cholesky_Outer(R)\n",
    "print(Fator)"
   ]
  },
  {
   "cell_type": "code",
   "execution_count": 20,
   "metadata": {},
   "outputs": [
    {
     "name": "stdout",
     "output_type": "stream",
     "text": [
      "[[ 2.44948974  0.          0.          0.        ]\n",
      " [ 5.71547607  1.52752523  0.          0.        ]\n",
      " [13.06394529  6.7647546   1.60356745  0.        ]\n",
      " [11.43095213  9.60158717  2.3162641   1.33333333]]\n",
      "[[  6.  14.  32.  28.]\n",
      " [ 14.  35.  85.  80.]\n",
      " [ 32.  85. 219. 218.]\n",
      " [ 28.  80. 218. 230.]]\n"
     ]
    }
   ],
   "source": [
    "Fator2 = np.linalg.cholesky(ATA)\n",
    "print(Fator2)\n",
    "AR = np.matmul(Fator2,Fator)\n",
    "print(AR)"
   ]
  },
  {
   "cell_type": "code",
   "execution_count": null,
   "metadata": {},
   "outputs": [],
   "source": []
  },
  {
   "cell_type": "code",
   "execution_count": null,
   "metadata": {},
   "outputs": [],
   "source": []
  }
 ],
 "metadata": {
  "kernelspec": {
   "display_name": "Python 3",
   "language": "python",
   "name": "python3"
  },
  "language_info": {
   "codemirror_mode": {
    "name": "ipython",
    "version": 3
   },
   "file_extension": ".py",
   "mimetype": "text/x-python",
   "name": "python",
   "nbconvert_exporter": "python",
   "pygments_lexer": "ipython3",
   "version": "3.8.8"
  }
 },
 "nbformat": 4,
 "nbformat_minor": 4
}
