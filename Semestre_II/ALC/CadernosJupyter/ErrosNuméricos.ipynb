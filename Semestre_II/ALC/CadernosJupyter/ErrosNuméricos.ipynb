{
 "cells": [
  {
   "cell_type": "markdown",
   "metadata": {},
   "source": [
    "## Álgebra Linear Computacional\n",
    "### Erros numéricos \n",
    "Profs. Alexandre Salles da Cunha e Ana Paula Couto da Silva"
   ]
  },
  {
   "cell_type": "code",
   "execution_count": 3,
   "metadata": {},
   "outputs": [],
   "source": [
    "import numpy as np\n",
    "import math"
   ]
  },
  {
   "cell_type": "code",
   "execution_count": 55,
   "metadata": {},
   "outputs": [],
   "source": [
    "n = 18\n",
    "x = np.zeros(n,dtype = 'float64')\n",
    "f1 = np.zeros(n,dtype = 'float64')\n",
    "f2 = np.zeros(n,dtype = 'float64')\n",
    "for i in range(n):\n",
    "    x[i] = np.power(0.1,i+1)\n",
    "    f1[i] = (math.exp(x[i])-math.exp(-2.*x[i]))/x[i]\n",
    "    f2[i] = (x[i]-math.sin(x[i]))/(np.power(x[i],3.0))\n",
    "\n"
   ]
  },
  {
   "cell_type": "code",
   "execution_count": 56,
   "metadata": {},
   "outputs": [
    {
     "data": {
      "text/plain": [
       "(array([1.e-01, 1.e-02, 1.e-03, 1.e-04, 1.e-05, 1.e-06, 1.e-07, 1.e-08,\n",
       "        1.e-09, 1.e-10, 1.e-11, 1.e-12, 1.e-13, 1.e-14, 1.e-15, 1.e-16,\n",
       "        1.e-17, 1.e-18]),\n",
       " array([2.86440165, 2.98514938, 2.9985015 , 2.99985001, 2.999985  ,\n",
       "        2.9999985 , 2.99999985, 2.99999997, 3.00000003, 3.00000025,\n",
       "        3.00000025, 3.00004466, 2.99871239, 2.99760217, 3.10862447,\n",
       "        2.22044605, 0.        , 0.        ]),\n",
       " array([0.16658335, 0.16666583, 0.16666666, 0.16666666, 0.16666728,\n",
       "        0.16665373, 0.17205357, 0.        , 0.        , 0.        ,\n",
       "        0.        , 0.        , 0.        , 0.        , 0.        ,\n",
       "        0.        , 0.        , 0.        ]))"
      ]
     },
     "execution_count": 56,
     "metadata": {},
     "output_type": "execute_result"
    }
   ],
   "source": [
    "x,f1,f2"
   ]
  },
  {
   "cell_type": "code",
   "execution_count": 57,
   "metadata": {},
   "outputs": [],
   "source": [
    "def AvaliaF2(x,kmax,tol):\n",
    "    v = 1.0/6.0\n",
    "    k = 2\n",
    "    convergiu = 0\n",
    "    while (k <= kmax) & (convergiu == 0):\n",
    "        f = math.factorial(2*k+1)\n",
    "        termo = np.power(-1,k)*np.power(x,2*(k-1))/f\n",
    "        v = v - termo\n",
    "        if abs(termo) <= tol:\n",
    "            convergiu = 1\n",
    "        print('k = ',k,'v = ',\"{:.10f}\".format(v),\\\n",
    "              '|termo| = ',\"{:.10E}\".format(abs(termo)))\n",
    "        k = k + 1\n",
    "    \n",
    "    "
   ]
  },
  {
   "cell_type": "code",
   "execution_count": 58,
   "metadata": {},
   "outputs": [
    {
     "name": "stdout",
     "output_type": "stream",
     "text": [
      "k =  2 v =  0.1645833333 |termo| =  2.0833333333E-03\n",
      "k =  3 v =  0.1645957341 |termo| =  1.2400793651E-05\n",
      "k =  4 v =  0.1645956911 |termo| =  4.3058311287E-08\n",
      "k =  5 v =  0.1645956912 |termo| =  9.7859798381E-11\n"
     ]
    }
   ],
   "source": [
    "AvaliaF2(.5,8,1.0e-10)"
   ]
  },
  {
   "cell_type": "code",
   "execution_count": 24,
   "metadata": {},
   "outputs": [
    {
     "name": "stdout",
     "output_type": "stream",
     "text": [
      "k =  2 v =  0.1666666667 |termo| =  8.3333333333E-35\n"
     ]
    }
   ],
   "source": [
    "AvaliaF2(1.0E-16,8,1.0e-10)"
   ]
  },
  {
   "cell_type": "code",
   "execution_count": 34,
   "metadata": {},
   "outputs": [],
   "source": [
    "def PrecisaodaMaquina():\n",
    "    a = 1.0\n",
    "    u = 1.0\n",
    "    b = a + u\n",
    "    k = 0\n",
    "    while (b != a):\n",
    "        u = u / 2.0\n",
    "        b = a + u\n",
    "        k = k + 1\n",
    "    r = a + u\n",
    "    p = 2*u\n",
    "    print('r = ',r,'k = ',k,'Precisao = ',\"{:.16E}\".format(p))\n",
    "    return r,k,p"
   ]
  },
  {
   "cell_type": "code",
   "execution_count": 35,
   "metadata": {},
   "outputs": [
    {
     "name": "stdout",
     "output_type": "stream",
     "text": [
      "r =  1.0 k =  53 Precisao =  2.2204460492503131E-16\n"
     ]
    }
   ],
   "source": [
    "r,k,p = PrecisaodaMaquina()"
   ]
  },
  {
   "cell_type": "markdown",
   "metadata": {},
   "source": [
    "O valor que calculamos é disponível para acesso do usuário."
   ]
  },
  {
   "cell_type": "code",
   "execution_count": 39,
   "metadata": {},
   "outputs": [
    {
     "name": "stdout",
     "output_type": "stream",
     "text": [
      "2.220446049250313e-16\n",
      "2.220446049250313e-16\n",
      "1.1920929e-07\n"
     ]
    }
   ],
   "source": [
    "print(np.finfo('float64').eps)\n",
    "print(np.finfo('float').eps)\n",
    "print(np.finfo('float32').eps)"
   ]
  },
  {
   "cell_type": "code",
   "execution_count": 43,
   "metadata": {},
   "outputs": [
    {
     "name": "stdout",
     "output_type": "stream",
     "text": [
      "0.0\n"
     ]
    }
   ],
   "source": [
    "v = (1.0 + 0.5*np.finfo('float64').eps) - 1.0\n",
    "print(v)"
   ]
  },
  {
   "cell_type": "code",
   "execution_count": null,
   "metadata": {},
   "outputs": [],
   "source": []
  },
  {
   "cell_type": "code",
   "execution_count": null,
   "metadata": {},
   "outputs": [],
   "source": []
  }
 ],
 "metadata": {
  "kernelspec": {
   "display_name": "Python 3",
   "language": "python",
   "name": "python3"
  },
  "language_info": {
   "codemirror_mode": {
    "name": "ipython",
    "version": 3
   },
   "file_extension": ".py",
   "mimetype": "text/x-python",
   "name": "python",
   "nbconvert_exporter": "python",
   "pygments_lexer": "ipython3",
   "version": "3.8.5"
  }
 },
 "nbformat": 4,
 "nbformat_minor": 4
}
